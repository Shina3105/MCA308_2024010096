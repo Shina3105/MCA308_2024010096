{
 "cells": [
  {
   "cell_type": "code",
   "execution_count": 1,
   "id": "ee11fe90-6801-47c8-a8a4-df28c13415f9",
   "metadata": {},
   "outputs": [],
   "source": [
    "import numpy as np\n",
    "from scipy.spatial.distance import euclidean, cityblock, hamming"
   ]
  },
  {
   "cell_type": "code",
   "execution_count": 2,
   "id": "7f4c07a2-60fc-452b-9c7a-92f7c5b69bc1",
   "metadata": {},
   "outputs": [],
   "source": [
    "customer_A = np.array([4, 5, 2, 3, 4])\n",
    "customer_B = np.array([5, 3, 2, 4, 5])"
   ]
  },
  {
   "cell_type": "code",
   "execution_count": 3,
   "id": "79fcf9de-47a0-4e5a-a9d6-2a4efa1a0ed4",
   "metadata": {},
   "outputs": [],
   "source": [
    "customer_A_binary = np.array([1, 0, 1, 1, 0, 1])\n",
    "customer_B_binary = np.array([1, 1, 1, 0, 0, 1])\n"
   ]
  },
  {
   "cell_type": "code",
   "execution_count": 4,
   "id": "838973b1-b950-4e85-be1e-e22a6afd76c4",
   "metadata": {},
   "outputs": [],
   "source": [
    "euclidean_dist = euclidean(customer_A, customer_B)"
   ]
  },
  {
   "cell_type": "code",
   "execution_count": 5,
   "id": "817116e9-5c69-4ff9-b665-906e6642709c",
   "metadata": {},
   "outputs": [
    {
     "data": {
      "text/plain": [
       "2.6457513110645907"
      ]
     },
     "execution_count": 5,
     "metadata": {},
     "output_type": "execute_result"
    }
   ],
   "source": [
    "euclidean_dist"
   ]
  },
  {
   "cell_type": "code",
   "execution_count": 6,
   "id": "216d24ca-0e82-46a7-8961-40c97f382449",
   "metadata": {},
   "outputs": [],
   "source": [
    "manhattan_dist = cityblock(customer_A, customer_B)"
   ]
  },
  {
   "cell_type": "code",
   "execution_count": 7,
   "id": "f62e25f1-28b1-40ab-ae12-75d6961d00d0",
   "metadata": {},
   "outputs": [
    {
     "data": {
      "text/plain": [
       "5"
      ]
     },
     "execution_count": 7,
     "metadata": {},
     "output_type": "execute_result"
    }
   ],
   "source": [
    "manhattan_dist"
   ]
  },
  {
   "cell_type": "code",
   "execution_count": 27,
   "id": "1c8b7a9c-2c4d-4013-bbd4-cb9bd137ca9e",
   "metadata": {},
   "outputs": [],
   "source": [
    "hamming_dist = hamming(customer_A_binary, customer_B_binary) * len(customer_A_binary)"
   ]
  },
  {
   "cell_type": "code",
   "execution_count": 28,
   "id": "2fd84db4-c644-4336-96d9-3b7299f7ca4e",
   "metadata": {},
   "outputs": [
    {
     "data": {
      "text/plain": [
       "2.0"
      ]
     },
     "execution_count": 28,
     "metadata": {},
     "output_type": "execute_result"
    }
   ],
   "source": [
    "hamming_dist"
   ]
  },
  {
   "cell_type": "code",
   "execution_count": 14,
   "id": "f4f74ee1-c04a-4565-90fa-d4fc5d882e23",
   "metadata": {},
   "outputs": [],
   "source": [
    "intersection = np.sum(customer_A_binary * customer_B_binary)\n",
    "union = np.sum(customer_A_binary) + np.sum(customer_B_binary) - intersection\n",
    "jaccard_sim = intersection / union"
   ]
  },
  {
   "cell_type": "code",
   "execution_count": 15,
   "id": "90427661-112a-4496-8cd3-e935b6cc608e",
   "metadata": {},
   "outputs": [
    {
     "data": {
      "text/plain": [
       "0.6"
      ]
     },
     "execution_count": 15,
     "metadata": {},
     "output_type": "execute_result"
    }
   ],
   "source": [
    "jaccard_sim"
   ]
  },
  {
   "cell_type": "code",
   "execution_count": 16,
   "id": "37f42343-0bce-4d2b-b3c4-17314e8f3653",
   "metadata": {},
   "outputs": [],
   "source": [
    "dot_product = np.dot(customer_A, customer_B)\n",
    "magnitude_A = np.sqrt(np.sum(customer_A**2))\n",
    "magnitude_B = np.sqrt(np.sum(customer_B**2))\n",
    "cosine_similarity = dot_product / (magnitude_A * magnitude_B)"
   ]
  },
  {
   "cell_type": "code",
   "execution_count": 17,
   "id": "0132529e-efdf-42d3-a221-a525f6d48129",
   "metadata": {},
   "outputs": [
    {
     "data": {
      "text/plain": [
       "0.9547634455139622"
      ]
     },
     "execution_count": 17,
     "metadata": {},
     "output_type": "execute_result"
    }
   ],
   "source": [
    "cosine_similarity"
   ]
  },
  {
   "cell_type": "code",
   "execution_count": 18,
   "id": "5ef35f4b-f47f-4e1b-b576-9e44ec5eb5e6",
   "metadata": {},
   "outputs": [],
   "source": [
    "from scipy.spatial.distance import chebyshev, minkowski"
   ]
  },
  {
   "cell_type": "code",
   "execution_count": 19,
   "id": "0b65a59f-945a-4de9-bbd5-1f8737110d49",
   "metadata": {},
   "outputs": [],
   "source": [
    "user1 = np.array([5, 3, 4, 4, 2])\n",
    "user2 = np.array([4, 2, 5, 4, 3])"
   ]
  },
  {
   "cell_type": "code",
   "execution_count": 20,
   "id": "dc876ff9-5a44-4d1b-9654-f60da87c422f",
   "metadata": {},
   "outputs": [],
   "source": [
    "chebyshev_dist = chebyshev(user1, user2)"
   ]
  },
  {
   "cell_type": "code",
   "execution_count": 21,
   "id": "df22670a-a02d-4427-b4a4-d4459d88b133",
   "metadata": {},
   "outputs": [
    {
     "data": {
      "text/plain": [
       "1"
      ]
     },
     "execution_count": 21,
     "metadata": {},
     "output_type": "execute_result"
    }
   ],
   "source": [
    "chebyshev_dist"
   ]
  },
  {
   "cell_type": "code",
   "execution_count": 22,
   "id": "f738046e-7e5c-4267-92c4-b6741e265f0e",
   "metadata": {},
   "outputs": [],
   "source": [
    "minkowski_dist = minkowski(user1, user2, p=3)"
   ]
  },
  {
   "cell_type": "code",
   "execution_count": 24,
   "id": "cfdbfa24-ae1f-4e81-b853-b6e281b102e4",
   "metadata": {},
   "outputs": [
    {
     "data": {
      "text/plain": [
       "1.5874010519681994"
      ]
     },
     "execution_count": 24,
     "metadata": {},
     "output_type": "execute_result"
    }
   ],
   "source": [
    "minkowski_dist"
   ]
  },
  {
   "cell_type": "code",
   "execution_count": null,
   "id": "4567c428-2953-402b-9d6e-b41151dcae6f",
   "metadata": {},
   "outputs": [],
   "source": []
  }
 ],
 "metadata": {
  "kernelspec": {
   "display_name": "Python 3 (ipykernel)",
   "language": "python",
   "name": "python3"
  },
  "language_info": {
   "codemirror_mode": {
    "name": "ipython",
    "version": 3
   },
   "file_extension": ".py",
   "mimetype": "text/x-python",
   "name": "python",
   "nbconvert_exporter": "python",
   "pygments_lexer": "ipython3",
   "version": "3.11.5"
  }
 },
 "nbformat": 4,
 "nbformat_minor": 5
}
