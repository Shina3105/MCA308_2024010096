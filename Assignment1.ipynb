{
 "cells": [
  {
   "cell_type": "markdown",
   "id": "8aed53d5-e93f-4b84-bbad-68d55457772f",
   "metadata": {},
   "source": [
    "**Hello World**"
   ]
  },
  {
   "cell_type": "code",
   "execution_count": 2,
   "id": "b28ea60f-29cf-4f5d-a8a2-a1bd44430682",
   "metadata": {},
   "outputs": [
    {
     "name": "stdout",
     "output_type": "stream",
     "text": [
      "Hello World\n"
     ]
    }
   ],
   "source": [
    "print(\"Hello World\")"
   ]
  },
  {
   "cell_type": "code",
   "execution_count": 3,
   "id": "0f884133-3ce2-4086-9d3c-cf0a2fb1a922",
   "metadata": {},
   "outputs": [
    {
     "name": "stdout",
     "output_type": "stream",
     "text": [
      "Shina\n",
      "Shina\n",
      "Shina\n"
     ]
    }
   ],
   "source": [
    "# Assignment 1.1 WAP to print your name three times\n",
    "print(\"Shina\")\n",
    "print(\"Shina\")\n",
    "print(\"Shina\")"
   ]
  },
  {
   "cell_type": "markdown",
   "id": "25a05e11-3c93-4b0d-9d9f-4db1e383815b",
   "metadata": {},
   "source": [
    "**ADD NUMBERS AND CONCATENATE**"
   ]
  },
  {
   "cell_type": "code",
   "execution_count": 4,
   "id": "eed4620c-af81-4d94-8de3-6ab8c3447831",
   "metadata": {},
   "outputs": [
    {
     "name": "stdout",
     "output_type": "stream",
     "text": [
      "10 + 20 = 30\n"
     ]
    }
   ],
   "source": [
    "a=10\n",
    "b=20\n",
    "c=a+b\n",
    "print(a,\"+\",b,\"=\",c)"
   ]
  },
  {
   "cell_type": "code",
   "execution_count": 6,
   "id": "2ed561cf-1cc8-41dd-b8a8-3569eb204024",
   "metadata": {},
   "outputs": [
    {
     "name": "stdout",
     "output_type": "stream",
     "text": [
      "Shina Garg\n"
     ]
    }
   ],
   "source": [
    "a=\"Shina\"\n",
    "b=\" Garg\"\n",
    "c=a+b\n",
    "print(c)"
   ]
  },
  {
   "cell_type": "code",
   "execution_count": 7,
   "id": "1b636cdd-ddec-4112-9003-ba19494161ff",
   "metadata": {},
   "outputs": [
    {
     "name": "stdout",
     "output_type": "stream",
     "text": [
      "Shina31\n"
     ]
    }
   ],
   "source": [
    "a=\"Shina\"\n",
    "b=31\n",
    "c=a+str(b)\n",
    "print(c)"
   ]
  },
  {
   "cell_type": "code",
   "execution_count": 8,
   "id": "78831b51-6a99-4f92-8713-68383f83047b",
   "metadata": {},
   "outputs": [
    {
     "name": "stdout",
     "output_type": "stream",
     "text": [
      "a+b+c= 60\n"
     ]
    }
   ],
   "source": [
    "# Assignment 2.1 WAP to add three nos and print result\n",
    "a=10\n",
    "b=20\n",
    "c=30\n",
    "d=a+b+c\n",
    "print(\"a+b+c=\",d)"
   ]
  },
  {
   "cell_type": "code",
   "execution_count": 9,
   "id": "4481660a-e531-4b78-8c3c-3f2bdcbd80b7",
   "metadata": {},
   "outputs": [
    {
     "name": "stdout",
     "output_type": "stream",
     "text": [
      "A beautiful flower\n"
     ]
    }
   ],
   "source": [
    "# Assignment 2.2 WAP to concatenate 3 strings\n",
    "a=\"A\"\n",
    "b=\" beautiful\"\n",
    "c=\" flower\"\n",
    "d=a+b+c\n",
    "print(d)"
   ]
  },
  {
   "cell_type": "markdown",
   "id": "9dbadacc-c514-4233-8c49-2faa62a81cb7",
   "metadata": {},
   "source": [
    "**INPUT FROM USER**"
   ]
  },
  {
   "cell_type": "code",
   "execution_count": 11,
   "id": "90c46516-0be7-4c9a-a8c9-955736bd4de2",
   "metadata": {},
   "outputs": [
    {
     "name": "stdin",
     "output_type": "stream",
     "text": [
      "Enter first string 23\n",
      "Enter second string 12\n"
     ]
    },
    {
     "name": "stdout",
     "output_type": "stream",
     "text": [
      "35\n"
     ]
    }
   ],
   "source": [
    "a=int(input(\"Enter first no\"))\n",
    "b=int(input(\"Enter second no\"))\n",
    "c=a+b\n",
    "print(c)"
   ]
  },
  {
   "cell_type": "code",
   "execution_count": 12,
   "id": "04fff8bb-85bc-42c2-a6eb-35a9f9df61f6",
   "metadata": {},
   "outputs": [
    {
     "name": "stdin",
     "output_type": "stream",
     "text": [
      "Enter first string Shina\n",
      "Enter second string GArg\n"
     ]
    },
    {
     "name": "stdout",
     "output_type": "stream",
     "text": [
      "ShinaGArg\n"
     ]
    }
   ],
   "source": [
    "a=input(\"Enter first string\")\n",
    "b=input(\"Enter second string\")\n",
    "c=a+b\n",
    "print(c)"
   ]
  },
  {
   "cell_type": "code",
   "execution_count": 13,
   "id": "865f0434-ec45-4fe6-af17-ae32b956ab53",
   "metadata": {},
   "outputs": [
    {
     "name": "stdout",
     "output_type": "stream",
     "text": [
      "1\n",
      "2\n",
      "3\n",
      "4\n",
      "5\n",
      "6\n",
      "7\n",
      "8\n",
      "9\n",
      "10\n"
     ]
    }
   ],
   "source": [
    "i=1\n",
    "while i<=10:\n",
    "    print(i)\n",
    "    i+=1"
   ]
  },
  {
   "cell_type": "code",
   "execution_count": 20,
   "id": "649ea74e-be42-426f-9eaf-55ba44123c5b",
   "metadata": {},
   "outputs": [
    {
     "name": "stdout",
     "output_type": "stream",
     "text": [
      "range(10) ---> [0, 1, 2, 3, 4, 5, 6, 7, 8, 9]\n",
      "range(10,20)---> [10, 11, 12, 13, 14, 15, 16, 17, 18, 19]\n",
      "range(0,20,2)---> [2, 4, 6, 8, 10, 12, 14, 16, 18]\n"
     ]
    }
   ],
   "source": [
    "print(\"range(10) --->\",list(range(10)))\n",
    "print(\"range(10,20)--->\",list(range(10,20)))\n",
    "print(\"range(0,20,2)--->\",list(range(2,20,2)))"
   ]
  },
  {
   "cell_type": "code",
   "execution_count": 21,
   "id": "47237a33-9761-422f-aa95-68e2ba9ff0a2",
   "metadata": {},
   "outputs": [
    {
     "name": "stdout",
     "output_type": "stream",
     "text": [
      "0\n",
      "1\n",
      "2\n",
      "3\n",
      "4\n",
      "5\n",
      "6\n",
      "7\n",
      "8\n",
      "9\n"
     ]
    }
   ],
   "source": [
    "for i in range(0,10):\n",
    "    print(i)"
   ]
  },
  {
   "cell_type": "code",
   "execution_count": 22,
   "id": "ef0c44a0-81c7-40d2-a66c-28f0341343b1",
   "metadata": {},
   "outputs": [
    {
     "name": "stdout",
     "output_type": "stream",
     "text": [
      "0\n",
      "2\n",
      "4\n",
      "6\n",
      "8\n",
      "10\n",
      "12\n",
      "14\n",
      "16\n",
      "18\n"
     ]
    }
   ],
   "source": [
    "for i in range(0,20,2):\n",
    "    print(i)"
   ]
  },
  {
   "cell_type": "code",
   "execution_count": 24,
   "id": "8aa99688-bc35-4aa9-beb2-e8652e481586",
   "metadata": {},
   "outputs": [
    {
     "name": "stdout",
     "output_type": "stream",
     "text": [
      "0\n",
      "-1\n",
      "-2\n",
      "-3\n",
      "-4\n",
      "-5\n",
      "-6\n",
      "-7\n",
      "-8\n",
      "-9\n"
     ]
    }
   ],
   "source": [
    "for i in range(0,-10,-1):\n",
    "    print(i)"
   ]
  },
  {
   "cell_type": "code",
   "execution_count": 25,
   "id": "3f98569a-2372-49ab-b34b-ac539e22d562",
   "metadata": {},
   "outputs": [
    {
     "name": "stdout",
     "output_type": "stream",
     "text": [
      "5 * 1 = 5\n",
      "5 * 2 = 10\n",
      "5 * 3 = 15\n",
      "5 * 4 = 20\n",
      "5 * 5 = 25\n",
      "5 * 6 = 30\n",
      "5 * 7 = 35\n",
      "5 * 8 = 40\n",
      "5 * 9 = 45\n",
      "5 * 10 = 50\n"
     ]
    }
   ],
   "source": [
    "for i in range(1,11):\n",
    "    print(5,\"*\",i,\"=\",5*i)"
   ]
  },
  {
   "cell_type": "code",
   "execution_count": 26,
   "id": "6f0f72fa-1bb6-4797-8734-47de93e05ce6",
   "metadata": {},
   "outputs": [
    {
     "name": "stdout",
     "output_type": "stream",
     "text": [
      "Sum is: 55\n"
     ]
    }
   ],
   "source": [
    "s=0\n",
    "for i in range(1,11):\n",
    "    s=s+i\n",
    "print(\"Sum is:\",s)"
   ]
  },
  {
   "cell_type": "code",
   "execution_count": 28,
   "id": "03f36a4c-4da4-474a-94b8-6d0dca6279ef",
   "metadata": {},
   "outputs": [
    {
     "name": "stdout",
     "output_type": "stream",
     "text": [
      "Sum is: 55\n"
     ]
    }
   ],
   "source": [
    "print(\"Sum is:\",sum(range(1,11)))"
   ]
  },
  {
   "cell_type": "code",
   "execution_count": 30,
   "id": "72b68995-7cf4-4d9d-8205-bbb6464ddede",
   "metadata": {},
   "outputs": [
    {
     "name": "stdout",
     "output_type": "stream",
     "text": [
      "7 * 1 = 7\n",
      "7 * 2 = 14\n",
      "7 * 3 = 21\n",
      "7 * 4 = 28\n",
      "7 * 5 = 35\n",
      "7 * 6 = 42\n",
      "7 * 7 = 49\n",
      "7 * 8 = 56\n",
      "7 * 9 = 63\n",
      "7 * 10 = 70\n",
      "9 * 1 = 9\n",
      "9 * 2 = 18\n",
      "9 * 3 = 27\n",
      "9 * 4 = 36\n",
      "9 * 5 = 45\n",
      "9 * 6 = 54\n",
      "9 * 7 = 63\n",
      "9 * 8 = 72\n",
      "9 * 9 = 81\n",
      "9 * 10 = 90\n"
     ]
    }
   ],
   "source": [
    "#Assignment 4.1 WAP to print table of 7 and 9\n",
    "for i in range(1,11):\n",
    "    print(7,\"*\",i,\"=\",7*i)\n",
    "for i in range(1,11):\n",
    "    print(9,\"*\",i,\"=\",9*i)"
   ]
  },
  {
   "cell_type": "code",
   "execution_count": 31,
   "id": "c1b8bdec-2bcf-4443-8223-954e56824ded",
   "metadata": {},
   "outputs": [
    {
     "name": "stdin",
     "output_type": "stream",
     "text": [
      "Enter a number: 4\n"
     ]
    },
    {
     "name": "stdout",
     "output_type": "stream",
     "text": [
      "4\n",
      "8\n",
      "12\n",
      "16\n",
      "20\n",
      "24\n",
      "28\n",
      "32\n",
      "36\n",
      "40\n"
     ]
    }
   ],
   "source": [
    "#Assignment 4.2 WAP to print table of n input by user\n",
    "n=int(input(\"Enter a number:\"))\n",
    "for i in range(1,11):\n",
    "    print(n*i)"
   ]
  },
  {
   "cell_type": "code",
   "execution_count": 32,
   "id": "f384332e-138c-49d2-878a-ca411ef8b3d2",
   "metadata": {},
   "outputs": [
    {
     "name": "stdin",
     "output_type": "stream",
     "text": [
      "Enter a number: 10\n"
     ]
    },
    {
     "name": "stdout",
     "output_type": "stream",
     "text": [
      "sum is: 55\n"
     ]
    }
   ],
   "source": [
    "#Assignment 4.3 WAP to add all the numbers from 1 to n\n",
    "n=int(input(\"Enter a number:\"))\n",
    "s=0\n",
    "for i in range(1,n+1):\n",
    "    s=s+i\n",
    "print(\"sum is:\",s)"
   ]
  },
  {
   "cell_type": "markdown",
   "id": "4713f36f-a61f-4f2d-896d-8fe82a0505bf",
   "metadata": {},
   "source": [
    "**if else checking**"
   ]
  },
  {
   "cell_type": "code",
   "execution_count": 33,
   "id": "fe442bde-a193-4644-a0ec-46a0c26d16d6",
   "metadata": {},
   "outputs": [
    {
     "name": "stdin",
     "output_type": "stream",
     "text": [
      "Enter a number 12\n",
      "enter a number 43\n"
     ]
    },
    {
     "name": "stdout",
     "output_type": "stream",
     "text": [
      "b is greater\n"
     ]
    }
   ],
   "source": [
    "a=int(input(\"Enter a number\"))\n",
    "b=int(input(\"enter a number\"))\n",
    "if a>b:\n",
    "    print(\"a is greater\")\n",
    "else:\n",
    "    print(\"b is greater\")"
   ]
  },
  {
   "cell_type": "code",
   "execution_count": 35,
   "id": "4a2cadc4-1677-48f8-ba41-759c954d6e1f",
   "metadata": {},
   "outputs": [
    {
     "name": "stdin",
     "output_type": "stream",
     "text": [
      "Enter  a number 34\n"
     ]
    },
    {
     "name": "stdout",
     "output_type": "stream",
     "text": [
      "Even\n"
     ]
    }
   ],
   "source": [
    "n=int(input(\"Enter  a number\"))\n",
    "if n%2==0:\n",
    "    print(\"Even\")\n",
    "else:\n",
    "    print(\"Odd\")"
   ]
  },
  {
   "cell_type": "code",
   "execution_count": 36,
   "id": "9f0d566a-4560-43b4-bdd6-4a9867f7dec6",
   "metadata": {},
   "outputs": [
    {
     "name": "stdin",
     "output_type": "stream",
     "text": [
      "Enter a number 23\n"
     ]
    },
    {
     "name": "stdout",
     "output_type": "stream",
     "text": [
      "Prime\n"
     ]
    }
   ],
   "source": [
    "n=int(input(\"Enter a number\"))\n",
    "f=0\n",
    "for i in range(2,n//2+1):\n",
    "    if n%i==0:\n",
    "        f=1\n",
    "        break\n",
    "if f==0:\n",
    "    print(\"Prime\")\n",
    "else:\n",
    "    print(\"Not Prime\")"
   ]
  },
  {
   "cell_type": "code",
   "execution_count": 37,
   "id": "f3a0ab21-31b8-4c90-b463-952a1f415a87",
   "metadata": {},
   "outputs": [
    {
     "name": "stdin",
     "output_type": "stream",
     "text": [
      "Enter a number 23\n",
      "Enter a number 12\n"
     ]
    },
    {
     "name": "stdout",
     "output_type": "stream",
     "text": [
      "a>b\n"
     ]
    }
   ],
   "source": [
    "a=int(input(\"Enter a number\"))\n",
    "b=int(input(\"Enter a number\"))\n",
    "if a==b:\n",
    "    print(\"a=b\")\n",
    "elif a>b:\n",
    "    print(\"a>b\")\n",
    "else:\n",
    "    print(\"a<b\")"
   ]
  },
  {
   "cell_type": "code",
   "execution_count": 40,
   "id": "f9bf94ee-690b-4cc9-a04d-0281fbe84eae",
   "metadata": {},
   "outputs": [
    {
     "name": "stdin",
     "output_type": "stream",
     "text": [
      "Enter a number: 43\n",
      "Enter a number: 12\n",
      "Enter a number: 2\n"
     ]
    },
    {
     "name": "stdout",
     "output_type": "stream",
     "text": [
      "A is greatest\n"
     ]
    }
   ],
   "source": [
    "#Assignment 5.1 WAP to find max among 3 nos\n",
    "a=int(input(\"Enter a number:\"))\n",
    "b=int(input(\"Enter a number:\"))\n",
    "c=int(input(\"Enter a number:\"))\n",
    "if a>b:\n",
    "    if a>c:\n",
    "        print(\"A is greatest\")\n",
    "    else:\n",
    "        print(\"C is greatest\")\n",
    "else:\n",
    "    if b>c:\n",
    "        print(\"B is greatest\")\n",
    "    else:\n",
    "        print(\"C is greatest\")"
   ]
  },
  {
   "cell_type": "code",
   "execution_count": 47,
   "id": "f051a36b-246c-4ea3-b5bd-e22a68b8887a",
   "metadata": {},
   "outputs": [
    {
     "name": "stdin",
     "output_type": "stream",
     "text": [
      "Enter a numner 2000\n"
     ]
    },
    {
     "name": "stdout",
     "output_type": "stream",
     "text": [
      "31248\n"
     ]
    }
   ],
   "source": [
    "#Assignment 5.2 WAP to add all numbers divisible by 7 and 9 from 1 to n\n",
    "n=int(input(\"Enter a numner\"))\n",
    "s=0\n",
    "for i in range(1,n+1):\n",
    "    if (i%7==0 and i%9==0):\n",
    "        s=s+i\n",
    "print(s)"
   ]
  },
  {
   "cell_type": "code",
   "execution_count": 54,
   "id": "84762933-a788-4205-ac85-a3601c6154cc",
   "metadata": {},
   "outputs": [
    {
     "name": "stdin",
     "output_type": "stream",
     "text": [
      "Enter a number:  7\n"
     ]
    },
    {
     "name": "stdout",
     "output_type": "stream",
     "text": [
      "Sum of all prime numbers from 1 to 7 is: 17\n"
     ]
    }
   ],
   "source": [
    "# Assignment 5.3: WAP to add all prime numbers from 1 to n\n",
    "\n",
    "n = int(input(\"Enter a number: \"))\n",
    "s = 0\n",
    "for j in range(2, n + 1): \n",
    "    is_prime = True\n",
    "    for i in range(2, int(j**0.5) + 1): \n",
    "        if j % i == 0:\n",
    "            is_prime = False\n",
    "            break\n",
    "    if is_prime:\n",
    "        s += j\n",
    "print(\"Sum of all prime numbers from 1 to\", n, \"is:\", s)\n"
   ]
  },
  {
   "cell_type": "markdown",
   "id": "ec41df36-cdc5-4cb0-8563-ba824204a8a2",
   "metadata": {},
   "source": [
    "**Functions**\n"
   ]
  },
  {
   "cell_type": "code",
   "execution_count": 55,
   "id": "76e1514f-4cb9-40f0-b0b9-12c7117cea27",
   "metadata": {},
   "outputs": [
    {
     "name": "stdout",
     "output_type": "stream",
     "text": [
      "22\n",
      "35\n"
     ]
    }
   ],
   "source": [
    "def ADD(a,b):\n",
    "    c=a+b\n",
    "    print(c)\n",
    "ADD(10,12)\n",
    "ADD(12,23)"
   ]
  },
  {
   "cell_type": "code",
   "execution_count": 56,
   "id": "1208ca16-d4bb-4d6d-8861-34bc0ec09e1e",
   "metadata": {},
   "outputs": [
    {
     "name": "stdout",
     "output_type": "stream",
     "text": [
      "1\n",
      "0\n"
     ]
    }
   ],
   "source": [
    "def isPrime(n):\n",
    "    for i in range(2,n//2+1):\n",
    "        if n%i==0:\n",
    "            return 0\n",
    "    return 1\n",
    "print(isPrime(7))\n",
    "print(isPrime(24))"
   ]
  },
  {
   "cell_type": "code",
   "execution_count": 59,
   "id": "c959fb23-6cf9-4e15-bf3c-01716fe964e8",
   "metadata": {},
   "outputs": [
    {
     "name": "stdout",
     "output_type": "stream",
     "text": [
      "55\n"
     ]
    }
   ],
   "source": [
    "def AddN(n):\n",
    "    s=sum(range(n+1))\n",
    "    return s\n",
    "print(AddN(10))"
   ]
  },
  {
   "cell_type": "code",
   "execution_count": 65,
   "id": "d840d8c2-b26b-48e5-ba78-38518f85b6e7",
   "metadata": {},
   "outputs": [
    {
     "name": "stdin",
     "output_type": "stream",
     "text": [
      "Enter a number 10\n"
     ]
    },
    {
     "name": "stdout",
     "output_type": "stream",
     "text": [
      "25\n"
     ]
    }
   ],
   "source": [
    "#Assignment 6.1 WAP to add all odd numbers from 1-n\n",
    "n=int(input(\"Enter a number\"))\n",
    "s=0\n",
    "e=0\n",
    "for i in range(1,n+1):\n",
    "    if i%2==0:\n",
    "        e=0\n",
    "    else:\n",
    "        e=1\n",
    "    if e==1:\n",
    "        s=s+i\n",
    "print(s)"
   ]
  },
  {
   "cell_type": "code",
   "execution_count": 66,
   "id": "63055756-4410-4dc9-b25f-9cad7abe9891",
   "metadata": {},
   "outputs": [
    {
     "name": "stdin",
     "output_type": "stream",
     "text": [
      "Enter a number:  45\n"
     ]
    },
    {
     "name": "stdout",
     "output_type": "stream",
     "text": [
      "Sum of all prime numbers from 1 to 45 is: 281\n"
     ]
    }
   ],
   "source": [
    "#Assignment 6.2 WAP to all all prime nos from 1-n using fxns\n",
    "def is_prime(num):\n",
    "    for i in range(2, int(num**0.5)+1):\n",
    "        if num % i == 0:\n",
    "            return False\n",
    "    return True\n",
    "def sum_of_primes(n):\n",
    "    total = 0\n",
    "    for i in range(2, n+1):\n",
    "        if is_prime(i):\n",
    "            total += i\n",
    "    return total\n",
    "n = int(input(\"Enter a number: \"))\n",
    "result = sum_of_primes(n)\n",
    "print(\"Sum of all prime numbers from 1 to\", n, \"is:\", result)"
   ]
  },
  {
   "cell_type": "markdown",
   "id": "a45dd306-47d7-47c0-bc0d-7d533f0e5d2f",
   "metadata": {},
   "source": [
    "**MATH LIBRARY**\n"
   ]
  },
  {
   "cell_type": "code",
   "execution_count": 68,
   "id": "0e57ebda-2f21-48cf-b941-bea5f42d2f2f",
   "metadata": {},
   "outputs": [
    {
     "name": "stdout",
     "output_type": "stream",
     "text": [
      "1.3838965267367376e-87\n",
      "6.643856189774725\n"
     ]
    }
   ],
   "source": [
    "import math as m\n",
    "print(m.exp(-200))\n",
    "print(m.log(100,2))"
   ]
  },
  {
   "cell_type": "markdown",
   "id": "df73394c-e676-4489-860c-6d210a9d6b3b",
   "metadata": {},
   "source": [
    "**STRINGS**"
   ]
  },
  {
   "cell_type": "code",
   "execution_count": 1,
   "id": "fa84844c-5af1-40b9-9b95-fa3f0d463912",
   "metadata": {},
   "outputs": [
    {
     "name": "stdout",
     "output_type": "stream",
     "text": [
      "Hello World\n",
      "H\n",
      "ello\n",
      "Hello \n"
     ]
    }
   ],
   "source": [
    "var=\"Hello World\"\n",
    "print(var)\n",
    "print(var[0])\n",
    "print(var[1:5])\n",
    "print(var[:-5])"
   ]
  },
  {
   "cell_type": "code",
   "execution_count": 2,
   "id": "fefd334d-e04d-41fb-a96b-4d4d3d8e5383",
   "metadata": {},
   "outputs": [
    {
     "name": "stdin",
     "output_type": "stream",
     "text": [
      "Enter your name Shina\n",
      "Enter your age 22\n",
      "Enter book price 2000\n"
     ]
    },
    {
     "name": "stdout",
     "output_type": "stream",
     "text": [
      "\n",
      "Your name is SHINA, age is 22 and book price is 2000.000000\n"
     ]
    }
   ],
   "source": [
    "name=input(\"Enter your name\")\n",
    "age=int(input(\"Enter your age\"))\n",
    "price=float(input(\"Enter book price\"))\n",
    "s=\"\\nYour name is %s, age is %d and book price is %f\" %(name.upper(),age,price)\n",
    "print(s)"
   ]
  },
  {
   "cell_type": "code",
   "execution_count": 3,
   "id": "21219a47-2076-41d3-af22-1af60dc99e31",
   "metadata": {},
   "outputs": [
    {
     "name": "stdout",
     "output_type": "stream",
     "text": [
      "hdgdybfjen wkjbdh tab(\t) njgfuhed[\n",
      "]bhfedgwfytfhbsbvup.\n"
     ]
    }
   ],
   "source": [
    "para_str=\"\"\"hdgdybfjen wkjbdh tab(\\t) njgfuhed[\\n]bhfedgwfytfhbsbvup.\"\"\"\n",
    "print(para_str)"
   ]
  },
  {
   "cell_type": "code",
   "execution_count": 5,
   "id": "a3097bfb-6ae7-4a54-bf75-49f107406df6",
   "metadata": {},
   "outputs": [
    {
     "name": "stdout",
     "output_type": "stream",
     "text": [
      " Indian ARmy      \n",
      "18\n",
      "Indian ARmy\n"
     ]
    }
   ],
   "source": [
    "var=\" Indian ARmy      \"\n",
    "print(var)\n",
    "print(len(var))\n",
    "print(var.strip())"
   ]
  },
  {
   "cell_type": "code",
   "execution_count": 7,
   "id": "b68b3126-0083-481c-b6d2-de4cc135a4cd",
   "metadata": {},
   "outputs": [
    {
     "name": "stdout",
     "output_type": "stream",
     "text": [
      "['Indian,', 'ARmy']\n",
      "[' Indian', ' ARmy      ']\n"
     ]
    }
   ],
   "source": [
    "var=\" Indian, ARmy      \"\n",
    "print(var.split())\n",
    "print(var.split(','))"
   ]
  },
  {
   "cell_type": "code",
   "execution_count": 12,
   "id": "9c1bc2fd-8d44-4543-849c-e5dc979b0054",
   "metadata": {},
   "outputs": [
    {
     "name": "stdout",
     "output_type": "stream",
     "text": [
      "8\n",
      "2\n"
     ]
    }
   ],
   "source": [
    "var=\" Indian, ARmy      \"\n",
    "print(var.count(\" \"))\n",
    "print(var.count('a'))"
   ]
  },
  {
   "cell_type": "code",
   "execution_count": 13,
   "id": "c901616e-296b-41db-a412-ed09127fc716",
   "metadata": {},
   "outputs": [
    {
     "name": "stdout",
     "output_type": "stream",
     "text": [
      "Indian Army\n",
      "Indian Army\n",
      "Ida ry\n",
      "ymrA naidnI\n"
     ]
    }
   ],
   "source": [
    "var=\"Indian Army\"\n",
    "print(var)\n",
    "print(var[::1])\n",
    "print(var[::2])\n",
    "print(var[::-1])"
   ]
  },
  {
   "cell_type": "code",
   "execution_count": 14,
   "id": "e33cc97b-6340-46c8-9a49-2c3c76170911",
   "metadata": {},
   "outputs": [
    {
     "name": "stdout",
     "output_type": "stream",
     "text": [
      "False\n",
      "True\n",
      "True\n"
     ]
    }
   ],
   "source": [
    "s1=\"Indian Army\"\n",
    "s2=\"malayalam\"\n",
    "s3=\"madam\"\n",
    "print(s1==s1[::-1])\n",
    "print(s2==s2[::-1])\n",
    "print(s3==s3[::-1])"
   ]
  },
  {
   "cell_type": "code",
   "execution_count": 15,
   "id": "d58a623d-84c2-4a33-bd16-50c201abb9b0",
   "metadata": {},
   "outputs": [
    {
     "name": "stdout",
     "output_type": "stream",
     "text": [
      "0.4381099190444411\n",
      "0.396\n"
     ]
    }
   ],
   "source": [
    "import random as r\n",
    "print(r.random())\n",
    "print(round(r.random(),4))"
   ]
  },
  {
   "cell_type": "code",
   "execution_count": 16,
   "id": "8c7bd4da-cefb-4fac-9191-66746f5c7bc4",
   "metadata": {},
   "outputs": [
    {
     "name": "stdout",
     "output_type": "stream",
     "text": [
      "65\n",
      "-6\n"
     ]
    }
   ],
   "source": [
    "import random as r\n",
    "print(r.randint(1,100))\n",
    "print(r.randint(-10,10))"
   ]
  },
  {
   "cell_type": "code",
   "execution_count": 18,
   "id": "2c56949b-33c5-4862-8a64-6d76a71a6bdf",
   "metadata": {},
   "outputs": [
    {
     "name": "stdout",
     "output_type": "stream",
     "text": [
      "59.05351592239282\n",
      "-2.103552679065672\n"
     ]
    }
   ],
   "source": [
    "import random as r\n",
    "print(r.uniform(1,100))\n",
    "print(r.uniform(-10,10))\n"
   ]
  },
  {
   "cell_type": "code",
   "execution_count": 19,
   "id": "93fafbf9-8030-460f-b26a-0ee701bcae02",
   "metadata": {},
   "outputs": [
    {
     "name": "stdout",
     "output_type": "stream",
     "text": [
      "[9, 2, 8, 3]\n",
      "[17, 1]\n"
     ]
    }
   ],
   "source": [
    "import random as r\n",
    "A=[1,2,3,4,5,6,7,8,9,10]\n",
    "print(r.sample(A,4))\n",
    "print(r.sample(range(0,100),2))"
   ]
  },
  {
   "cell_type": "code",
   "execution_count": 21,
   "id": "7d0f73ac-cd3d-44c6-9681-34f44fe8cc92",
   "metadata": {},
   "outputs": [
    {
     "name": "stdout",
     "output_type": "stream",
     "text": [
      "abcdefghijklmnopqrstuvwxyzABCDEFGHIJKLMNOPQRSTUVWXYZ\n",
      "['J', 'I', 'X', 'E', 'B', 'n']\n",
      "JIXEBn\n",
      "J+I+X+E+B+n\n",
      "J*I*X*E*B*n\n"
     ]
    }
   ],
   "source": [
    "import string as s\n",
    "import random as r\n",
    "print(s.ascii_letters)\n",
    "passwd=r.sample(s.ascii_letters,6)\n",
    "print(passwd)\n",
    "passwd1=\"\".join(passwd)\n",
    "print(passwd1)\n",
    "passwd2=\"+\".join(passwd)\n",
    "print(passwd2)\n",
    "passwd3=\"*\".join(passwd)\n",
    "print(passwd3)"
   ]
  },
  {
   "cell_type": "code",
   "execution_count": 24,
   "id": "1cfce2ee-113e-46a7-8862-30cfde38c301",
   "metadata": {},
   "outputs": [
    {
     "name": "stdout",
     "output_type": "stream",
     "text": [
      "0123456789\n",
      "['3', '1', '8', '4', '9']\n",
      "31849\n"
     ]
    }
   ],
   "source": [
    "import string as s\n",
    "import random as r\n",
    "print(s.digits)\n",
    "otp=r.sample(s.digits,5)\n",
    "print(otp)\n",
    "otp=\"\".join(otp)\n",
    "print(otp)"
   ]
  },
  {
   "cell_type": "code",
   "execution_count": 25,
   "id": "28ce51e0-8a9a-44b5-99ae-4a0f856f4322",
   "metadata": {},
   "outputs": [
    {
     "name": "stdout",
     "output_type": "stream",
     "text": [
      "abcdefghijklmnopqrstuvwxyzABCDEFGHIJKLMNOPQRSTUVWXYZ0123456789\n",
      "['4', 'A', 'R', 'c', 'x']\n",
      "4ARcx\n"
     ]
    }
   ],
   "source": [
    "import string as s\n",
    "import random as r\n",
    "print(s.ascii_letters+s.digits)\n",
    "mixPAss=r.sample(s.ascii_letters+s.digits,5)\n",
    "print(mixPAss)\n",
    "mixpass=\"\".join(mixPAss)\n",
    "print(mixpass)"
   ]
  },
  {
   "cell_type": "markdown",
   "id": "c95d3c47-a73a-445d-b48f-4dbabd760f7b",
   "metadata": {},
   "source": [
    "Exception Handling"
   ]
  },
  {
   "cell_type": "code",
   "execution_count": 26,
   "id": "9f216c6f-248a-43ab-84fe-ef700575519c",
   "metadata": {},
   "outputs": [
    {
     "name": "stdout",
     "output_type": "stream",
     "text": [
      "100/ -5 = -20.0\n",
      "100/ -4 = -25.0\n",
      "100/ -3 = -33.333333333333336\n",
      "100/ -2 = -50.0\n",
      "100/ -1 = -100.0\n"
     ]
    },
    {
     "ename": "ZeroDivisionError",
     "evalue": "division by zero",
     "output_type": "error",
     "traceback": [
      "\u001b[1;31m---------------------------------------------------------------------------\u001b[0m",
      "\u001b[1;31mZeroDivisionError\u001b[0m                         Traceback (most recent call last)",
      "Cell \u001b[1;32mIn[26], line 2\u001b[0m\n\u001b[0;32m      1\u001b[0m \u001b[38;5;28;01mfor\u001b[39;00m i \u001b[38;5;129;01min\u001b[39;00m \u001b[38;5;28mrange\u001b[39m(\u001b[38;5;241m-\u001b[39m\u001b[38;5;241m5\u001b[39m,\u001b[38;5;241m6\u001b[39m):\n\u001b[1;32m----> 2\u001b[0m     \u001b[38;5;28mprint\u001b[39m(\u001b[38;5;124m\"\u001b[39m\u001b[38;5;124m100/\u001b[39m\u001b[38;5;124m\"\u001b[39m,i,\u001b[38;5;124m\"\u001b[39m\u001b[38;5;124m=\u001b[39m\u001b[38;5;124m\"\u001b[39m,\u001b[38;5;241;43m100\u001b[39;49m\u001b[38;5;241;43m/\u001b[39;49m\u001b[43mi\u001b[49m)\n",
      "\u001b[1;31mZeroDivisionError\u001b[0m: division by zero"
     ]
    }
   ],
   "source": [
    "for i in range(-5,6):\n",
    "    print(\"100/\",i,\"=\",100/i)"
   ]
  },
  {
   "cell_type": "code",
   "execution_count": 1,
   "id": "ded87d73-c6e2-427a-8a75-077de5d84306",
   "metadata": {},
   "outputs": [
    {
     "name": "stdout",
     "output_type": "stream",
     "text": [
      "100/ -5 = -20.0\n",
      "100/ -4 = -25.0\n",
      "100/ -3 = -33.333333333333336\n",
      "100/ -2 = -50.0\n",
      "100/ -1 = -100.0\n",
      "error\n",
      "100/ 1 = 100.0\n",
      "100/ 2 = 50.0\n",
      "100/ 3 = 33.333333333333336\n",
      "100/ 4 = 25.0\n",
      "100/ 5 = 20.0\n"
     ]
    }
   ],
   "source": [
    "for i in range(-5,6):\n",
    "    try:\n",
    "        print(\"100/\",i,\"=\",100/i)\n",
    "    except:\n",
    "        print(\"error\")"
   ]
  },
  {
   "cell_type": "code",
   "execution_count": 28,
   "id": "65ec6249-7835-454a-a7e5-e7988dfe971f",
   "metadata": {},
   "outputs": [
    {
     "name": "stdout",
     "output_type": "stream",
     "text": [
      "1\n",
      "2\n",
      "3\n",
      "4\n",
      "5\n",
      "Error\n",
      "Error\n",
      "Error\n"
     ]
    }
   ],
   "source": [
    "L=[1,2,3,4,5]\n",
    "for i in range(8):\n",
    "    try:\n",
    "        print(L[i])\n",
    "    except:\n",
    "        print(\"Error\")"
   ]
  },
  {
   "cell_type": "code",
   "execution_count": 29,
   "id": "2e624713-1729-4964-9d84-8b021d4b7716",
   "metadata": {},
   "outputs": [
    {
     "name": "stdin",
     "output_type": "stream",
     "text": [
      "Enter filoe name fike.txt\n"
     ]
    },
    {
     "ename": "FileNotFoundError",
     "evalue": "[Errno 2] No such file or directory: 'fike.txt'",
     "output_type": "error",
     "traceback": [
      "\u001b[1;31m---------------------------------------------------------------------------\u001b[0m",
      "\u001b[1;31mFileNotFoundError\u001b[0m                         Traceback (most recent call last)",
      "Cell \u001b[1;32mIn[29], line 2\u001b[0m\n\u001b[0;32m      1\u001b[0m fileName\u001b[38;5;241m=\u001b[39m\u001b[38;5;28minput\u001b[39m(\u001b[38;5;124m\"\u001b[39m\u001b[38;5;124mEnter filoe name\u001b[39m\u001b[38;5;124m\"\u001b[39m)\n\u001b[1;32m----> 2\u001b[0m fp\u001b[38;5;241m=\u001b[39m\u001b[38;5;28;43mopen\u001b[39;49m\u001b[43m(\u001b[49m\u001b[43mfileName\u001b[49m\u001b[43m)\u001b[49m\n\u001b[0;32m      3\u001b[0m fp\u001b[38;5;241m.\u001b[39mclose()\n\u001b[0;32m      4\u001b[0m \u001b[38;5;28mprint\u001b[39m(\u001b[38;5;124m\"\u001b[39m\u001b[38;5;124mDone\u001b[39m\u001b[38;5;124m\"\u001b[39m)\n",
      "File \u001b[1;32m~\\miniconda3\\Lib\\site-packages\\IPython\\core\\interactiveshell.py:324\u001b[0m, in \u001b[0;36m_modified_open\u001b[1;34m(file, *args, **kwargs)\u001b[0m\n\u001b[0;32m    317\u001b[0m \u001b[38;5;28;01mif\u001b[39;00m file \u001b[38;5;129;01min\u001b[39;00m {\u001b[38;5;241m0\u001b[39m, \u001b[38;5;241m1\u001b[39m, \u001b[38;5;241m2\u001b[39m}:\n\u001b[0;32m    318\u001b[0m     \u001b[38;5;28;01mraise\u001b[39;00m \u001b[38;5;167;01mValueError\u001b[39;00m(\n\u001b[0;32m    319\u001b[0m         \u001b[38;5;124mf\u001b[39m\u001b[38;5;124m\"\u001b[39m\u001b[38;5;124mIPython won\u001b[39m\u001b[38;5;124m'\u001b[39m\u001b[38;5;124mt let you open fd=\u001b[39m\u001b[38;5;132;01m{\u001b[39;00mfile\u001b[38;5;132;01m}\u001b[39;00m\u001b[38;5;124m by default \u001b[39m\u001b[38;5;124m\"\u001b[39m\n\u001b[0;32m    320\u001b[0m         \u001b[38;5;124m\"\u001b[39m\u001b[38;5;124mas it is likely to crash IPython. If you know what you are doing, \u001b[39m\u001b[38;5;124m\"\u001b[39m\n\u001b[0;32m    321\u001b[0m         \u001b[38;5;124m\"\u001b[39m\u001b[38;5;124myou can use builtins\u001b[39m\u001b[38;5;124m'\u001b[39m\u001b[38;5;124m open.\u001b[39m\u001b[38;5;124m\"\u001b[39m\n\u001b[0;32m    322\u001b[0m     )\n\u001b[1;32m--> 324\u001b[0m \u001b[38;5;28;01mreturn\u001b[39;00m \u001b[43mio_open\u001b[49m\u001b[43m(\u001b[49m\u001b[43mfile\u001b[49m\u001b[43m,\u001b[49m\u001b[43m \u001b[49m\u001b[38;5;241;43m*\u001b[39;49m\u001b[43margs\u001b[49m\u001b[43m,\u001b[49m\u001b[43m \u001b[49m\u001b[38;5;241;43m*\u001b[39;49m\u001b[38;5;241;43m*\u001b[39;49m\u001b[43mkwargs\u001b[49m\u001b[43m)\u001b[49m\n",
      "\u001b[1;31mFileNotFoundError\u001b[0m: [Errno 2] No such file or directory: 'fike.txt'"
     ]
    }
   ],
   "source": [
    "fileName=input(\"Enter filoe name\")\n",
    "fp=open(fileName)\n",
    "fp.close()\n",
    "print(\"Done\")"
   ]
  },
  {
   "cell_type": "code",
   "execution_count": 30,
   "id": "a5f3e102-aa9d-441d-ac62-56713792a4ad",
   "metadata": {},
   "outputs": [
    {
     "name": "stdin",
     "output_type": "stream",
     "text": [
      "Enter filoe name gh.txt\n"
     ]
    },
    {
     "name": "stdout",
     "output_type": "stream",
     "text": [
      "Error\n",
      "Done\n"
     ]
    }
   ],
   "source": [
    "fileName=input(\"Enter filoe name\")\n",
    "try:\n",
    "    fp=open(fileName)\n",
    "    fp.close()\n",
    "except:\n",
    "    print(\"Error\")\n",
    "print(\"Done\")"
   ]
  },
  {
   "cell_type": "code",
   "execution_count": 31,
   "id": "50e93aeb-e095-4031-8a16-279be2be1534",
   "metadata": {},
   "outputs": [
    {
     "name": "stdout",
     "output_type": "stream",
     "text": [
      "Original List: ['Hello', 'World', 2.4, 4]\n",
      "4\n"
     ]
    }
   ],
   "source": [
    "L=[\"Hello\",\"World\",2.4,4]\n",
    "print(\"Original List:\",L)\n",
    "print(len(L))"
   ]
  },
  {
   "cell_type": "code",
   "execution_count": 32,
   "id": "f813559f-77c7-4929-8490-dab36393c6bc",
   "metadata": {},
   "outputs": [
    {
     "name": "stdout",
     "output_type": "stream",
     "text": [
      "Original List: ['Hello', 'World', 2.4, 4]\n",
      "Hello\n",
      "World\n",
      "2.4\n",
      "4\n"
     ]
    }
   ],
   "source": [
    "L=[\"Hello\",\"World\",2.4,4]\n",
    "print(\"Original List:\",L)\n",
    "i=0\n",
    "while i<len(L):\n",
    "    print(L[i])\n",
    "    i+=1"
   ]
  },
  {
   "cell_type": "code",
   "execution_count": 33,
   "id": "5b34cc68-a3e2-4999-b967-d3a002d8544d",
   "metadata": {},
   "outputs": [
    {
     "name": "stdout",
     "output_type": "stream",
     "text": [
      "Original List: ['Hello', 'World', 2.4, 4]\n",
      "Hello\n",
      "World\n",
      "2.4\n",
      "4\n"
     ]
    }
   ],
   "source": [
    "L=[\"Hello\",\"World\",2.4,4]\n",
    "print(\"Original List:\",L)\n",
    "for i in range(0,len(L)):\n",
    "    print(L[i])"
   ]
  },
  {
   "cell_type": "code",
   "execution_count": 34,
   "id": "c272314a-34c1-4698-a7ca-980e1aa61f60",
   "metadata": {},
   "outputs": [
    {
     "name": "stdout",
     "output_type": "stream",
     "text": [
      "Original List: ['Hello', 'World', 2.4, 4]\n",
      "Hello\n",
      "World\n",
      "2.4\n",
      "4\n"
     ]
    }
   ],
   "source": [
    "L=[\"Hello\",\"World\",2.4,4]\n",
    "print(\"Original List:\",L)\n",
    "for s in L:\n",
    "    print(s)"
   ]
  },
  {
   "cell_type": "code",
   "execution_count": 36,
   "id": "c6fbaca6-f64f-47ba-bd67-5e791b242cfb",
   "metadata": {},
   "outputs": [
    {
     "name": "stdout",
     "output_type": "stream",
     "text": [
      "Original List: ['Hello', 'World', 2.4, 4]\n",
      "['Hello', 'World', 2.4, 4, 'HI']\n",
      "['Hello', 2.4, 4, 'HI']\n"
     ]
    }
   ],
   "source": [
    "L=[\"Hello\",\"World\",2.4,4]\n",
    "print(\"Original List:\",L)\n",
    "L.append(\"HI\")\n",
    "print(L)\n",
    "del L[1]\n",
    "print(L)"
   ]
  },
  {
   "cell_type": "code",
   "execution_count": 38,
   "id": "682118a3-ae13-4279-85bd-6373fe8192ec",
   "metadata": {},
   "outputs": [
    {
     "name": "stdout",
     "output_type": "stream",
     "text": [
      "[1, 2, 3, 4, 5, 6]\n",
      "21\n",
      "3.5\n"
     ]
    }
   ],
   "source": [
    "l=[1,2,3,4,5,6]\n",
    "print(l)\n",
    "print(sum(l))\n",
    "print(sum(l)/len(l))"
   ]
  },
  {
   "cell_type": "code",
   "execution_count": 1,
   "id": "adf8c6b6-d848-486b-8bc3-cfe129f4726e",
   "metadata": {},
   "outputs": [
    {
     "name": "stdout",
     "output_type": "stream",
     "text": [
      "[12, 3, 5, 4, 34]\n",
      "[60, 15, 25, 20, 170]\n"
     ]
    }
   ],
   "source": [
    "l=[12,3,5,4,34]\n",
    "print(l)\n",
    "newl=[i*5 for i in l]\n",
    "print(newl)\n"
   ]
  },
  {
   "cell_type": "code",
   "execution_count": 2,
   "id": "c6a76ff9-bbd6-447f-b307-f35e19aba2be",
   "metadata": {},
   "outputs": [
    {
     "name": "stdout",
     "output_type": "stream",
     "text": [
      "[12, 3, 5, 4, 34]\n",
      "Not present\n"
     ]
    }
   ],
   "source": [
    "l=[12,3,5,4,34]\n",
    "print(l)\n",
    "if(6 in l)==True:\n",
    "    print(\"Present\")\n",
    "else:\n",
    "    print(\"Not present\")"
   ]
  },
  {
   "cell_type": "markdown",
   "id": "2217e9b6-083b-4c89-afc7-d9a0625dbff4",
   "metadata": {},
   "source": [
    "Data Dictionary\n"
   ]
  },
  {
   "cell_type": "code",
   "execution_count": 4,
   "id": "65f0ca4b-03b8-4cd5-a7a5-87ab91b7538c",
   "metadata": {},
   "outputs": [
    {
     "name": "stdout",
     "output_type": "stream",
     "text": [
      "{1: 8, 2: 5.4, 3: 9.8}\n",
      "3\n",
      "8\n"
     ]
    }
   ],
   "source": [
    "cgpa={1:8,2:5.4,3:9.8}\n",
    "print(cgpa)\n",
    "print(len(cgpa))\n",
    "print(cgpa[1])"
   ]
  },
  {
   "cell_type": "code",
   "execution_count": 5,
   "id": "96d40c64-358f-4844-8db6-635c41378f42",
   "metadata": {},
   "outputs": [
    {
     "name": "stdout",
     "output_type": "stream",
     "text": [
      "8\n",
      "5.4\n",
      "9.8\n"
     ]
    }
   ],
   "source": [
    "cgpa={1:8,2:5.4,3:9.8}\n",
    "for i in cgpa:\n",
    "    print(cgpa[i])"
   ]
  },
  {
   "cell_type": "code",
   "execution_count": 8,
   "id": "8499dc6d-0ebc-457a-8bfc-a751d4a66937",
   "metadata": {},
   "outputs": [
    {
     "name": "stdout",
     "output_type": "stream",
     "text": [
      "[1, 2, 3]\n",
      "[8, 5.4, 9.8]\n"
     ]
    }
   ],
   "source": [
    "cgpa={1:8,2:5.4,3:9.8}\n",
    "print(list(cgpa.keys()))\n",
    "print(list(cgpa.values()))"
   ]
  },
  {
   "cell_type": "code",
   "execution_count": 14,
   "id": "dcf30616-d506-4c1a-9c5d-15793295fdd4",
   "metadata": {},
   "outputs": [
    {
     "name": "stdout",
     "output_type": "stream",
     "text": [
      "{1: 9.2, 2: 5.4, 3: 9.8}\n",
      "{1: 9.2, 3: 9.8}\n",
      "True\n"
     ]
    }
   ],
   "source": [
    "cgpa={1:8,2:5.4,3:9.8}\n",
    "cgpa[1]=9.2\n",
    "print(cgpa)\n",
    "del cgpa[2]\n",
    "print(cgpa)\n",
    "print(3 in cgpa)"
   ]
  },
  {
   "cell_type": "markdown",
   "id": "b00e335f-1fb6-43d7-8705-dd8ca7d87805",
   "metadata": {},
   "source": [
    "Tuple\n"
   ]
  },
  {
   "cell_type": "code",
   "execution_count": 15,
   "id": "ae5eedc1-afd0-4932-bc2c-d91f3a4e9c33",
   "metadata": {},
   "outputs": [
    {
     "name": "stdout",
     "output_type": "stream",
     "text": [
      "('Helo', 'Worls', 2.3, 8)\n",
      "4\n",
      "<class 'tuple'>\n"
     ]
    }
   ],
   "source": [
    "t=(\"Helo\",\"Worls\",2.3,8)\n",
    "print(t)\n",
    "print(len(t))\n",
    "print(type(t))"
   ]
  },
  {
   "cell_type": "code",
   "execution_count": 16,
   "id": "2b913da3-1dec-4ff2-87df-ea70bcc2ffbf",
   "metadata": {},
   "outputs": [
    {
     "name": "stdout",
     "output_type": "stream",
     "text": [
      "('Helo', 'Worls', 2.3, 8)\n",
      "Helo\n",
      "Worls\n",
      "2.3\n",
      "8\n"
     ]
    }
   ],
   "source": [
    "t=(\"Helo\",\"Worls\",2.3,8)\n",
    "print(t)\n",
    "i=0\n",
    "while i<len(t):\n",
    "    print(t[i])\n",
    "    i+=1"
   ]
  },
  {
   "cell_type": "code",
   "execution_count": 17,
   "id": "126405df-95eb-422a-b2d3-ee5b05087d14",
   "metadata": {},
   "outputs": [
    {
     "name": "stdout",
     "output_type": "stream",
     "text": [
      "('Helo', 'Worls', 2.3, 8)\n",
      "Helo\n",
      "Worls\n",
      "2.3\n",
      "8\n"
     ]
    }
   ],
   "source": [
    "t=(\"Helo\",\"Worls\",2.3,8)\n",
    "print(t)\n",
    "for i in range(0,len(t)):\n",
    "    print(t[i])"
   ]
  },
  {
   "cell_type": "code",
   "execution_count": 18,
   "id": "bfa40316-7126-4029-9e06-86e0cbc846fd",
   "metadata": {},
   "outputs": [
    {
     "name": "stdout",
     "output_type": "stream",
     "text": [
      "('Helo', 'Worls', 2.3, 8)\n",
      "Helo\n",
      "Worls\n",
      "2.3\n",
      "8\n"
     ]
    }
   ],
   "source": [
    "t=(\"Helo\",\"Worls\",2.3,8)\n",
    "print(t)\n",
    "for s in t:\n",
    "    print(s)"
   ]
  },
  {
   "cell_type": "code",
   "execution_count": 20,
   "id": "5cecb0fc-67f7-49f8-b4cd-d7c484824c44",
   "metadata": {},
   "outputs": [
    {
     "name": "stdout",
     "output_type": "stream",
     "text": [
      "('Helo', 'Worls', 2.3, 8)\n",
      "Worls\n",
      "8\n",
      "('Worls', 2.3)\n"
     ]
    }
   ],
   "source": [
    "t=(\"Helo\",\"Worls\",2.3,8)\n",
    "print(t)\n",
    "print(t[1])\n",
    "print(t[-1])\n",
    "print(t[1:3])"
   ]
  },
  {
   "cell_type": "code",
   "execution_count": 22,
   "id": "cf0e5c9c-598d-4681-8374-2a9ecb615733",
   "metadata": {},
   "outputs": [
    {
     "name": "stdout",
     "output_type": "stream",
     "text": [
      "(10, 4, 2.3, 8)\n",
      "24.3\n"
     ]
    }
   ],
   "source": [
    "t=(10,4,2.3,8)\n",
    "print(t)\n",
    "print(sum(t))"
   ]
  },
  {
   "cell_type": "code",
   "execution_count": 23,
   "id": "c981153e-b3c3-4768-a308-74444b8c2c88",
   "metadata": {},
   "outputs": [
    {
     "name": "stdout",
     "output_type": "stream",
     "text": [
      "('Helo', 'Worls', 2.3, 8, 10, 4, 2.3, 8)\n"
     ]
    }
   ],
   "source": [
    "t1=(\"Helo\",\"Worls\",2.3,8)\n",
    "t2=(10,4,2.3,8)\n",
    "t=t1+t2\n",
    "print(t)"
   ]
  },
  {
   "cell_type": "markdown",
   "id": "9c405d8e-4ed2-486d-a274-be0795b0f504",
   "metadata": {},
   "source": [
    "SET"
   ]
  },
  {
   "cell_type": "code",
   "execution_count": 24,
   "id": "650c3114-a020-4b89-bf71-69045ed689e4",
   "metadata": {},
   "outputs": [
    {
     "name": "stdout",
     "output_type": "stream",
     "text": [
      "{'A', 'B', 'D', 'F', 'E', 'C'}\n",
      "6\n"
     ]
    }
   ],
   "source": [
    "s=set(['A','B','C','D','E','F'])\n",
    "print(s)\n",
    "print(len(s))"
   ]
  },
  {
   "cell_type": "code",
   "execution_count": 25,
   "id": "94b293ed-f919-4b44-b309-f3737a1f68c7",
   "metadata": {},
   "outputs": [
    {
     "name": "stdout",
     "output_type": "stream",
     "text": [
      "['C:\\\\Users\\\\dell\\\\miniconda3\\\\Lib\\\\site-packages\\\\ipykernel_launcher.py', '-f', 'C:\\\\Users\\\\dell\\\\AppData\\\\Roaming\\\\jupyter\\\\runtime\\\\kernel-fc998d10-0a87-458c-93c8-2031d628c4a6.json']\n"
     ]
    },
    {
     "ename": "ValueError",
     "evalue": "invalid literal for int() with base 10: '-f'",
     "output_type": "error",
     "traceback": [
      "\u001b[1;31m---------------------------------------------------------------------------\u001b[0m",
      "\u001b[1;31mValueError\u001b[0m                                Traceback (most recent call last)",
      "Cell \u001b[1;32mIn[25], line 3\u001b[0m\n\u001b[0;32m      1\u001b[0m \u001b[38;5;28;01mimport\u001b[39;00m\u001b[38;5;250m \u001b[39m\u001b[38;5;21;01msys\u001b[39;00m\n\u001b[0;32m      2\u001b[0m \u001b[38;5;28mprint\u001b[39m (sys\u001b[38;5;241m.\u001b[39margv)\n\u001b[1;32m----> 3\u001b[0m a \u001b[38;5;241m=\u001b[39m \u001b[38;5;28;43mint\u001b[39;49m\u001b[43m(\u001b[49m\u001b[43msys\u001b[49m\u001b[38;5;241;43m.\u001b[39;49m\u001b[43margv\u001b[49m\u001b[43m[\u001b[49m\u001b[38;5;241;43m1\u001b[39;49m\u001b[43m]\u001b[49m\u001b[43m)\u001b[49m \t\u001b[38;5;66;03m# First Number\u001b[39;00m\n\u001b[0;32m      4\u001b[0m b \u001b[38;5;241m=\u001b[39m \u001b[38;5;28mint\u001b[39m(sys\u001b[38;5;241m.\u001b[39margv[\u001b[38;5;241m2\u001b[39m])\t\u001b[38;5;66;03m# Second Number\u001b[39;00m\n\u001b[0;32m      5\u001b[0m c \u001b[38;5;241m=\u001b[39m a \u001b[38;5;241m+\u001b[39m b\n",
      "\u001b[1;31mValueError\u001b[0m: invalid literal for int() with base 10: '-f'"
     ]
    }
   ],
   "source": [
    "import sys\n",
    "print (sys.argv)\n",
    "a = int(sys.argv[1]) \t# First Number\n",
    "b = int(sys.argv[2])\t# Second Number\n",
    "c = a + b\n",
    "print (a, \" + \", b, \" --> \", c)"
   ]
  },
  {
   "cell_type": "code",
   "execution_count": 26,
   "id": "393ab1d5-9c0f-456c-b135-1cb60b89687b",
   "metadata": {},
   "outputs": [
    {
     "name": "stdout",
     "output_type": "stream",
     "text": [
      "['C:\\\\Users\\\\dell\\\\miniconda3\\\\Lib\\\\site-packages\\\\ipykernel_launcher.py', '-f', 'C:\\\\Users\\\\dell\\\\AppData\\\\Roaming\\\\jupyter\\\\runtime\\\\kernel-fc998d10-0a87-458c-93c8-2031d628c4a6.json']\n",
      "-f  +  C:\\Users\\dell\\AppData\\Roaming\\jupyter\\runtime\\kernel-fc998d10-0a87-458c-93c8-2031d628c4a6.json  -->  -f C:\\Users\\dell\\AppData\\Roaming\\jupyter\\runtime\\kernel-fc998d10-0a87-458c-93c8-2031d628c4a6.json\n"
     ]
    }
   ],
   "source": [
    "import sys\n",
    "print (sys.argv)\n",
    "s = sys.argv[1] + \" \" + sys.argv[2]\n",
    "print (sys.argv[1], \" + \", sys.argv[2], \" --> \", s)"
   ]
  },
  {
   "cell_type": "code",
   "execution_count": 27,
   "id": "edc679ee-0a4e-4594-8666-87d441b4138d",
   "metadata": {},
   "outputs": [
    {
     "name": "stdout",
     "output_type": "stream",
     "text": [
      "['C:\\\\Users\\\\dell\\\\miniconda3\\\\Lib\\\\site-packages\\\\ipykernel_launcher.py', '-f', 'C:\\\\Users\\\\dell\\\\AppData\\\\Roaming\\\\jupyter\\\\runtime\\\\kernel-fc998d10-0a87-458c-93c8-2031d628c4a6.json']\n"
     ]
    },
    {
     "ename": "ValueError",
     "evalue": "invalid literal for int() with base 10: '-f'",
     "output_type": "error",
     "traceback": [
      "\u001b[1;31m---------------------------------------------------------------------------\u001b[0m",
      "\u001b[1;31mValueError\u001b[0m                                Traceback (most recent call last)",
      "Cell \u001b[1;32mIn[27], line 5\u001b[0m\n\u001b[0;32m      3\u001b[0m \u001b[38;5;28msum\u001b[39m\u001b[38;5;241m=\u001b[39m\u001b[38;5;241m0\u001b[39m\n\u001b[0;32m      4\u001b[0m \u001b[38;5;28;01mfor\u001b[39;00m s \u001b[38;5;129;01min\u001b[39;00m sys\u001b[38;5;241m.\u001b[39margv[\u001b[38;5;241m1\u001b[39m:]:\n\u001b[1;32m----> 5\u001b[0m \t\u001b[38;5;28msum\u001b[39m \u001b[38;5;241m+\u001b[39m\u001b[38;5;241m=\u001b[39m \u001b[38;5;28;43mint\u001b[39;49m\u001b[43m(\u001b[49m\u001b[43ms\u001b[49m\u001b[43m)\u001b[49m\n\u001b[0;32m      7\u001b[0m \u001b[38;5;28mprint\u001b[39m (\u001b[38;5;124m\"\u001b[39m\u001b[38;5;124mSum is --> \u001b[39m\u001b[38;5;124m\"\u001b[39m, \u001b[38;5;28msum\u001b[39m)\n",
      "\u001b[1;31mValueError\u001b[0m: invalid literal for int() with base 10: '-f'"
     ]
    }
   ],
   "source": [
    "import sys\n",
    "print (sys.argv)\n",
    "sum=0\n",
    "for s in sys.argv[1:]:\n",
    "\tsum += int(s)\n",
    "\n",
    "print (\"Sum is --> \", sum)"
   ]
  },
  {
   "cell_type": "code",
   "execution_count": 28,
   "id": "51c5c9d1-294f-4392-827e-14607b4e0ad4",
   "metadata": {},
   "outputs": [
    {
     "name": "stdout",
     "output_type": "stream",
     "text": [
      "Writing done !! \n",
      "Open result.txt to view the content\n"
     ]
    }
   ],
   "source": [
    "fp=open('result.txt','w')\t# Open the file in writing mode\n",
    "for  i in range(1,11):\n",
    "\tfp.write(str(i) + \"\\n\")\t# Writing to the file line by line\n",
    "fp.close()\n",
    "\n",
    "print (\"Writing done !! \\nOpen result.txt to view the content\")"
   ]
  },
  {
   "cell_type": "code",
   "execution_count": 31,
   "id": "eb17a58e-3b0b-42eb-8cd9-f95153496f71",
   "metadata": {},
   "outputs": [
    {
     "name": "stdout",
     "output_type": "stream",
     "text": [
      "1\n",
      "2\n",
      "3\n",
      "4\n",
      "5\n",
      "6\n",
      "7\n",
      "8\n",
      "9\n",
      "10\n"
     ]
    }
   ],
   "source": [
    "fp=open('result.txt')\t\t\n",
    "for line in fp: \t\t   \n",
    "\tprint (line.strip())\n",
    "fp.close()\n",
    "     "
   ]
  },
  {
   "cell_type": "code",
   "execution_count": 30,
   "id": "97f73e53-30b2-4080-8aa0-e36fe7e86804",
   "metadata": {},
   "outputs": [
    {
     "name": "stdout",
     "output_type": "stream",
     "text": [
      "Writing done !! \n",
      "Open result.txt to view the content\n"
     ]
    }
   ],
   "source": [
    "Readfp=open('result.txt')\t\t\n",
    "Writefp=open('abc.txt','w')\t\n",
    "for line in Readfp:\n",
    "\tWritefp.write(line.upper())\n",
    "\n",
    "Writefp.close()\n",
    "Readfp.close()\n",
    "\n",
    "print (\"Writing done !! \\nOpen result.txt to view the content\")"
   ]
  },
  {
   "cell_type": "code",
   "execution_count": null,
   "id": "c9e4a52a-2f87-49e2-a9d8-ff1a92aad8cb",
   "metadata": {},
   "outputs": [],
   "source": []
  }
 ],
 "metadata": {
  "kernelspec": {
   "display_name": "Python 3 (ipykernel)",
   "language": "python",
   "name": "python3"
  },
  "language_info": {
   "codemirror_mode": {
    "name": "ipython",
    "version": 3
   },
   "file_extension": ".py",
   "mimetype": "text/x-python",
   "name": "python",
   "nbconvert_exporter": "python",
   "pygments_lexer": "ipython3",
   "version": "3.11.5"
  }
 },
 "nbformat": 4,
 "nbformat_minor": 5
}
